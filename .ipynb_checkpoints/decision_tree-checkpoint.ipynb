{
 "cells": [
  {
   "cell_type": "code",
   "execution_count": 35,
   "metadata": {},
   "outputs": [],
   "source": [
    "import pandas as pd\n",
    "import numpy as np\n",
    "import matplotlib.pyplot as plt\n",
    "import random\n",
    "random.seed(100)"
   ]
  },
  {
   "cell_type": "markdown",
   "metadata": {},
   "source": [
    "# Read Dataset"
   ]
  },
  {
   "cell_type": "code",
   "execution_count": 3,
   "metadata": {},
   "outputs": [],
   "source": [
    "data = pd.read_csv('./data/shanghai_experience.csv')"
   ]
  },
  {
   "cell_type": "markdown",
   "metadata": {},
   "source": [
    "## Dataset Explaination\n",
    "\n",
    "* the varible `low` is our label y, low = 0 means low salary, low = 1 means high salary\n",
    "* Other varibles is our features X\n",
    "\n",
    "notice that y is a vector and X is a matrix.\n",
    "\n",
    "Some featues:\n",
    "* `career_algorithm`, `career_architect`, `career_software_engineer` mean which career the person has. We use one-hot-encoding here\n",
    "* `pl_go`, `pl_c_sharp` ... mean which language the person uses.\n",
    "\n",
    "There are totally over 100 features, I won't explain all of them. For simplicity, all features are boolean type."
   ]
  },
  {
   "cell_type": "code",
   "execution_count": 4,
   "metadata": {},
   "outputs": [
    {
     "data": {
      "text/html": [
       "<div>\n",
       "<style scoped>\n",
       "    .dataframe tbody tr th:only-of-type {\n",
       "        vertical-align: middle;\n",
       "    }\n",
       "\n",
       "    .dataframe tbody tr th {\n",
       "        vertical-align: top;\n",
       "    }\n",
       "\n",
       "    .dataframe thead th {\n",
       "        text-align: right;\n",
       "    }\n",
       "</style>\n",
       "<table border=\"1\" class=\"dataframe\">\n",
       "  <thead>\n",
       "    <tr style=\"text-align: right;\">\n",
       "      <th></th>\n",
       "      <th>ageism</th>\n",
       "      <th>career_algorithm</th>\n",
       "      <th>career_architect</th>\n",
       "      <th>career_software_engineer</th>\n",
       "      <th>company_size_10000</th>\n",
       "      <th>company_size_1000_5000</th>\n",
       "      <th>company_size_150_500</th>\n",
       "      <th>company_size_50</th>\n",
       "      <th>company_size_5000_10000</th>\n",
       "      <th>company_size_500_1000</th>\n",
       "      <th>...</th>\n",
       "      <th>ml_mxnet</th>\n",
       "      <th>ml_chainer</th>\n",
       "      <th>ml_keras</th>\n",
       "      <th>ml_deeplearning4j</th>\n",
       "      <th>ml_theano</th>\n",
       "      <th>ml_sklearn</th>\n",
       "      <th>ml_mahout</th>\n",
       "      <th>ml_paddlepaddle</th>\n",
       "      <th>career_spider</th>\n",
       "      <th>low</th>\n",
       "    </tr>\n",
       "  </thead>\n",
       "  <tbody>\n",
       "    <tr>\n",
       "      <th>0</th>\n",
       "      <td>False</td>\n",
       "      <td>False</td>\n",
       "      <td>False</td>\n",
       "      <td>True</td>\n",
       "      <td>False</td>\n",
       "      <td>False</td>\n",
       "      <td>False</td>\n",
       "      <td>False</td>\n",
       "      <td>False</td>\n",
       "      <td>False</td>\n",
       "      <td>...</td>\n",
       "      <td>False</td>\n",
       "      <td>False</td>\n",
       "      <td>False</td>\n",
       "      <td>False</td>\n",
       "      <td>False</td>\n",
       "      <td>False</td>\n",
       "      <td>False</td>\n",
       "      <td>False</td>\n",
       "      <td>False</td>\n",
       "      <td>1</td>\n",
       "    </tr>\n",
       "    <tr>\n",
       "      <th>1</th>\n",
       "      <td>False</td>\n",
       "      <td>False</td>\n",
       "      <td>False</td>\n",
       "      <td>True</td>\n",
       "      <td>False</td>\n",
       "      <td>False</td>\n",
       "      <td>False</td>\n",
       "      <td>False</td>\n",
       "      <td>False</td>\n",
       "      <td>False</td>\n",
       "      <td>...</td>\n",
       "      <td>False</td>\n",
       "      <td>False</td>\n",
       "      <td>False</td>\n",
       "      <td>False</td>\n",
       "      <td>False</td>\n",
       "      <td>False</td>\n",
       "      <td>False</td>\n",
       "      <td>False</td>\n",
       "      <td>False</td>\n",
       "      <td>1</td>\n",
       "    </tr>\n",
       "    <tr>\n",
       "      <th>2</th>\n",
       "      <td>False</td>\n",
       "      <td>False</td>\n",
       "      <td>False</td>\n",
       "      <td>True</td>\n",
       "      <td>False</td>\n",
       "      <td>False</td>\n",
       "      <td>False</td>\n",
       "      <td>False</td>\n",
       "      <td>False</td>\n",
       "      <td>False</td>\n",
       "      <td>...</td>\n",
       "      <td>False</td>\n",
       "      <td>False</td>\n",
       "      <td>False</td>\n",
       "      <td>False</td>\n",
       "      <td>False</td>\n",
       "      <td>False</td>\n",
       "      <td>False</td>\n",
       "      <td>False</td>\n",
       "      <td>False</td>\n",
       "      <td>1</td>\n",
       "    </tr>\n",
       "    <tr>\n",
       "      <th>3</th>\n",
       "      <td>False</td>\n",
       "      <td>False</td>\n",
       "      <td>False</td>\n",
       "      <td>True</td>\n",
       "      <td>False</td>\n",
       "      <td>False</td>\n",
       "      <td>False</td>\n",
       "      <td>False</td>\n",
       "      <td>False</td>\n",
       "      <td>False</td>\n",
       "      <td>...</td>\n",
       "      <td>False</td>\n",
       "      <td>False</td>\n",
       "      <td>False</td>\n",
       "      <td>False</td>\n",
       "      <td>False</td>\n",
       "      <td>False</td>\n",
       "      <td>False</td>\n",
       "      <td>False</td>\n",
       "      <td>False</td>\n",
       "      <td>1</td>\n",
       "    </tr>\n",
       "    <tr>\n",
       "      <th>4</th>\n",
       "      <td>False</td>\n",
       "      <td>False</td>\n",
       "      <td>False</td>\n",
       "      <td>True</td>\n",
       "      <td>False</td>\n",
       "      <td>False</td>\n",
       "      <td>False</td>\n",
       "      <td>False</td>\n",
       "      <td>False</td>\n",
       "      <td>False</td>\n",
       "      <td>...</td>\n",
       "      <td>False</td>\n",
       "      <td>False</td>\n",
       "      <td>False</td>\n",
       "      <td>False</td>\n",
       "      <td>False</td>\n",
       "      <td>False</td>\n",
       "      <td>False</td>\n",
       "      <td>False</td>\n",
       "      <td>False</td>\n",
       "      <td>1</td>\n",
       "    </tr>\n",
       "  </tbody>\n",
       "</table>\n",
       "<p>5 rows × 128 columns</p>\n",
       "</div>"
      ],
      "text/plain": [
       "   ageism  career_algorithm  career_architect  career_software_engineer  \\\n",
       "0   False             False             False                      True   \n",
       "1   False             False             False                      True   \n",
       "2   False             False             False                      True   \n",
       "3   False             False             False                      True   \n",
       "4   False             False             False                      True   \n",
       "\n",
       "   company_size_10000  company_size_1000_5000  company_size_150_500  \\\n",
       "0               False                   False                 False   \n",
       "1               False                   False                 False   \n",
       "2               False                   False                 False   \n",
       "3               False                   False                 False   \n",
       "4               False                   False                 False   \n",
       "\n",
       "   company_size_50  company_size_5000_10000  company_size_500_1000  ...  \\\n",
       "0            False                    False                  False  ...   \n",
       "1            False                    False                  False  ...   \n",
       "2            False                    False                  False  ...   \n",
       "3            False                    False                  False  ...   \n",
       "4            False                    False                  False  ...   \n",
       "\n",
       "   ml_mxnet  ml_chainer  ml_keras  ml_deeplearning4j  ml_theano  ml_sklearn  \\\n",
       "0     False       False     False              False      False       False   \n",
       "1     False       False     False              False      False       False   \n",
       "2     False       False     False              False      False       False   \n",
       "3     False       False     False              False      False       False   \n",
       "4     False       False     False              False      False       False   \n",
       "\n",
       "   ml_mahout  ml_paddlepaddle  career_spider  low  \n",
       "0      False            False          False    1  \n",
       "1      False            False          False    1  \n",
       "2      False            False          False    1  \n",
       "3      False            False          False    1  \n",
       "4      False            False          False    1  \n",
       "\n",
       "[5 rows x 128 columns]"
      ]
     },
     "execution_count": 4,
     "metadata": {},
     "output_type": "execute_result"
    }
   ],
   "source": [
    "data.head()"
   ]
  },
  {
   "cell_type": "code",
   "execution_count": 5,
   "metadata": {},
   "outputs": [
    {
     "data": {
      "text/plain": [
       "(4891, 128)"
      ]
     },
     "execution_count": 5,
     "metadata": {},
     "output_type": "execute_result"
    }
   ],
   "source": [
    "# 4891 rows，128 cols\n",
    "data.shape"
   ]
  },
  {
   "cell_type": "code",
   "execution_count": 6,
   "metadata": {},
   "outputs": [
    {
     "data": {
      "text/html": [
       "<div>\n",
       "<style scoped>\n",
       "    .dataframe tbody tr th:only-of-type {\n",
       "        vertical-align: middle;\n",
       "    }\n",
       "\n",
       "    .dataframe tbody tr th {\n",
       "        vertical-align: top;\n",
       "    }\n",
       "\n",
       "    .dataframe thead th {\n",
       "        text-align: right;\n",
       "    }\n",
       "</style>\n",
       "<table border=\"1\" class=\"dataframe\">\n",
       "  <thead>\n",
       "    <tr style=\"text-align: right;\">\n",
       "      <th></th>\n",
       "      <th>low</th>\n",
       "    </tr>\n",
       "  </thead>\n",
       "  <tbody>\n",
       "    <tr>\n",
       "      <th>count</th>\n",
       "      <td>4891.000000</td>\n",
       "    </tr>\n",
       "    <tr>\n",
       "      <th>mean</th>\n",
       "      <td>0.541198</td>\n",
       "    </tr>\n",
       "    <tr>\n",
       "      <th>std</th>\n",
       "      <td>0.498351</td>\n",
       "    </tr>\n",
       "    <tr>\n",
       "      <th>min</th>\n",
       "      <td>0.000000</td>\n",
       "    </tr>\n",
       "    <tr>\n",
       "      <th>25%</th>\n",
       "      <td>0.000000</td>\n",
       "    </tr>\n",
       "    <tr>\n",
       "      <th>50%</th>\n",
       "      <td>1.000000</td>\n",
       "    </tr>\n",
       "    <tr>\n",
       "      <th>75%</th>\n",
       "      <td>1.000000</td>\n",
       "    </tr>\n",
       "    <tr>\n",
       "      <th>max</th>\n",
       "      <td>1.000000</td>\n",
       "    </tr>\n",
       "  </tbody>\n",
       "</table>\n",
       "</div>"
      ],
      "text/plain": [
       "               low\n",
       "count  4891.000000\n",
       "mean      0.541198\n",
       "std       0.498351\n",
       "min       0.000000\n",
       "25%       0.000000\n",
       "50%       1.000000\n",
       "75%       1.000000\n",
       "max       1.000000"
      ]
     },
     "execution_count": 6,
     "metadata": {},
     "output_type": "execute_result"
    }
   ],
   "source": [
    "# see some info about low, i.e. y label\n",
    "data.describe()"
   ]
  },
  {
   "cell_type": "markdown",
   "metadata": {},
   "source": [
    "# Decision Tree"
   ]
  },
  {
   "cell_type": "markdown",
   "metadata": {},
   "source": [
    "## Purity Evaluation\n",
    "We can evaluate purity by entropy or gini index"
   ]
  },
  {
   "cell_type": "markdown",
   "metadata": {},
   "source": [
    "## Entropy\n",
    "\n",
    "There is a variable X (feature), and the probability distribution of this X is:\n",
    "\n",
    "$$P\\left(X=x_{i}\\right)=p_{i}, \\quad i=1,2, \\cdots, n$$\n",
    "\n",
    "Therefore, information entropy of varible X is:\n",
    "\n",
    "$$H(X)=-\\sum_{i=1}^{n} p_{i} \\log p_{i}$$\n"
   ]
  },
  {
   "cell_type": "code",
   "execution_count": 70,
   "metadata": {},
   "outputs": [],
   "source": [
    "def get_entropy(counts):\n",
    "    \"\"\"Get the entropy value\n",
    "    \n",
    "    Parameters\n",
    "    ----------\n",
    "    counts: Number of occurrences of different values\n",
    "    \n",
    "    Returns\n",
    "    -------\n",
    "    entropy: Entropy of the dataset\n",
    "    \"\"\"\n",
    "    \n",
    "    percentages = counts / np.sum(counts)\n",
    "    entropy = sum([ - pct * np.log2(pct) for pct in percentages if pct != 0])\n",
    "    return entropy"
   ]
  },
  {
   "cell_type": "code",
   "execution_count": 71,
   "metadata": {},
   "outputs": [
    {
     "data": {
      "text/plain": [
       "0.0"
      ]
     },
     "execution_count": 71,
     "metadata": {},
     "output_type": "execute_result"
    }
   ],
   "source": [
    "get_entropy([0, 1])"
   ]
  },
  {
   "cell_type": "code",
   "execution_count": 72,
   "metadata": {},
   "outputs": [
    {
     "data": {
      "text/plain": [
       "1.0"
      ]
     },
     "execution_count": 72,
     "metadata": {},
     "output_type": "execute_result"
    }
   ],
   "source": [
    "get_entropy([3, 3])"
   ]
  },
  {
   "cell_type": "code",
   "execution_count": 73,
   "metadata": {},
   "outputs": [
    {
     "data": {
      "text/plain": [
       "1.4926140680171258"
      ]
     },
     "execution_count": 73,
     "metadata": {},
     "output_type": "execute_result"
    }
   ],
   "source": [
    "get_entropy([3, 4, 7])"
   ]
  },
  {
   "cell_type": "code",
   "execution_count": 74,
   "metadata": {},
   "outputs": [
    {
     "data": {
      "text/plain": [
       "0.9950971141240397"
      ]
     },
     "execution_count": 74,
     "metadata": {},
     "output_type": "execute_result"
    }
   ],
   "source": [
    "# get the entropy of the entire dataset\n",
    "counts_y = [sum(data['low'] == 0), sum(data['low'] == 1)]\n",
    "get_entropy(counts_y)"
   ]
  },
  {
   "cell_type": "markdown",
   "metadata": {},
   "source": [
    "## Gini\n",
    "Gini = 1 - sum(Pi^2)"
   ]
  },
  {
   "cell_type": "code",
   "execution_count": 11,
   "metadata": {},
   "outputs": [],
   "source": [
    "def get_gini(counts):\n",
    "    \"\"\"Get the gini index value\n",
    "    \n",
    "    Parameters\n",
    "    ----------\n",
    "    counts: Number of occurrences of different values\n",
    "    \n",
    "    Returns\n",
    "    -------\n",
    "    gini: Gini of the dataset\n",
    "    \"\"\"\n",
    "    \n",
    "    percentages = counts / np.sum(counts)\n",
    "    gini = 1 - sum([pct ** 2 for pct in percentages])\n",
    "    return gini"
   ]
  },
  {
   "cell_type": "code",
   "execution_count": 12,
   "metadata": {},
   "outputs": [
    {
     "data": {
      "text/plain": [
       "0.0"
      ]
     },
     "execution_count": 12,
     "metadata": {},
     "output_type": "execute_result"
    }
   ],
   "source": [
    "get_gini([0,100])"
   ]
  },
  {
   "cell_type": "code",
   "execution_count": 13,
   "metadata": {},
   "outputs": [
    {
     "data": {
      "text/plain": [
       "0.5"
      ]
     },
     "execution_count": 13,
     "metadata": {},
     "output_type": "execute_result"
    }
   ],
   "source": [
    "get_gini([50,50])"
   ]
  },
  {
   "cell_type": "code",
   "execution_count": 14,
   "metadata": {},
   "outputs": [
    {
     "data": {
      "text/plain": [
       "0.49660542998270074"
      ]
     },
     "execution_count": 14,
     "metadata": {},
     "output_type": "execute_result"
    }
   ],
   "source": [
    "# get gini of the entire dataset\n",
    "counts_y = [sum(data['low'] == 0), sum(data['low'] == 1)]\n",
    "get_gini(counts_y)"
   ]
  },
  {
   "cell_type": "markdown",
   "metadata": {},
   "source": [
    "## Curves of Entropy and Gini\n",
    "The curve of half entropy (1/2 * entropy) and gini is very similar"
   ]
  },
  {
   "cell_type": "code",
   "execution_count": 63,
   "metadata": {},
   "outputs": [
    {
     "data": {
      "text/plain": [
       "<matplotlib.legend.Legend at 0x7fb3e6305190>"
      ]
     },
     "execution_count": 63,
     "metadata": {},
     "output_type": "execute_result"
    },
    {
     "data": {
      "image/png": "[encoded data removed]",
      "text/plain": [
       "<Figure size 432x288 with 1 Axes>"
      ]
     },
     "metadata": {
      "needs_background": "light"
     },
     "output_type": "display_data"
    }
   ],
   "source": [
    "fig, ax = plt.subplots()\n",
    "\n",
    "# calculate points in functions\n",
    "x_list = [i / 1000 for i in list(range(1001))]\n",
    "half_entropy_list = [ 1/2 * get_entropy([x, 1 - x]) for x in x_list]\n",
    "gini_list = [get_gini([x, 1 - x]) for x in x_list]\n",
    "\n",
    "# draw functions\n",
    "ax.plot(x_list, half_entropy_list, label=\"Half Entropy\")\n",
    "ax.plot(x_list, gini_list, label=\"Gini\")\n",
    "ax.set_xlabel('P')\n",
    "ax.set_ylabel('Half Entropy / Gini')\n",
    "ax.set_title('Half Entropy and Gini in binary classification')\n",
    "ax.grid()\n",
    "ax.legend()"
   ]
  },
  {
   "cell_type": "markdown",
   "metadata": {},
   "source": [
    "## Decision Tree Algorithm"
   ]
  },
  {
   "cell_type": "code",
   "execution_count": 15,
   "metadata": {},
   "outputs": [],
   "source": [
    "msk = np.random.rand(len(data)) < 0.8\n",
    "data_train = data[msk]\n",
    "data_test = data[~msk]\n",
    "X_train = data_train.drop('low', axis=1)\n",
    "y_train = data_train['low']\n",
    "X_test = data_test.drop('low', axis=1)\n",
    "y_test = data_test['low']"
   ]
  },
  {
   "cell_type": "code",
   "execution_count": 16,
   "metadata": {},
   "outputs": [],
   "source": [
    "class Branch:\n",
    "    no=0\n",
    "    depth=1\n",
    "    column=''\n",
    "    entropy=0\n",
    "    samples=0\n",
    "    value=[]\n",
    "    \n",
    "    branch_positive=None\n",
    "    branch_negative=None\n",
    "    no_positive=0\n",
    "    no_negative=0"
   ]
  },
  {
   "cell_type": "code",
   "execution_count": 22,
   "metadata": {},
   "outputs": [],
   "source": [
    "number=0\n",
    "\n",
    "def data_entropy(data):\n",
    "    n_rows=data.shape[0]\n",
    "    n_low=data[data.low==1].shape[0]\n",
    "    n_high=n_rows-n_low\n",
    "    return get_entropy([n_low, n_high])\n",
    "\n",
    "def data_entropy2(data1, data2):\n",
    "    entrop1=data_entropy(data1)\n",
    "    entrop2=data_entropy(data2)\n",
    "    n1=data1.shape[0]\n",
    "    n2=data2.shape[0]\n",
    "    n=n1+n2\n",
    "    return n1/n*entrop1+n2/n*entrop2\n",
    "\n",
    "def find_best_feature(data, label):\n",
    "    X=data.drop(label, axis=1)\n",
    "    min_entropy=1\n",
    "    col_selected=''\n",
    "    data_positive_found=None\n",
    "    data_negative_found=None\n",
    "    for col in X.columns:\n",
    "        data_positive=data[data[col]==1]\n",
    "        data_negative=data[data[col]==0]\n",
    "        if data_positive.shape[0]==0:\n",
    "            continue\n",
    "        if data_negative.shape[0]==0:\n",
    "            continue\n",
    "        entropy=data_entropy2(data_positive, data_negative)\n",
    "        #print(gain,entropy,entropy_new)\n",
    "        if entropy<min_entropy:\n",
    "            min_entropy=entropy\n",
    "            col_selected=col\n",
    "            data_positive_found=data_positive\n",
    "            data_negative_found=data_negative\n",
    "    return col_selected, min_entropy, data_positive_found, data_negative_found\n",
    "\n",
    "def decision_tree_inner(data, label, depth, max_depth=3):\n",
    "    global number\n",
    "    branch = Branch()\n",
    "    branch.no=number\n",
    "    number=number+1\n",
    "    branch.depth=depth\n",
    "    \n",
    "    branch.samples=data.shape[0]\n",
    "    n_positive=data[data[label]==1].shape[0]\n",
    "    branch.value=[branch.samples-n_positive,n_positive]\n",
    "    branch.entropy=get_entropy(branch.value)\n",
    "    best_feature = find_best_feature(data, label)\n",
    "    branch.column=best_feature[0]\n",
    "    new_entropy=best_feature[1]\n",
    "    if depth==max_depth or branch.column=='':\n",
    "        branch.no_positive=number\n",
    "        number=number+1\n",
    "        branch.no_negative=number\n",
    "        number=number+1\n",
    "        return branch\n",
    "    else:\n",
    "        data_negative=best_feature[3]\n",
    "        branch.branch_negative=decision_tree_inner(data_negative, label, depth+1, max_depth=max_depth)\n",
    "        data_positive=best_feature[2]\n",
    "        branch.branch_positive=decision_tree_inner(data_positive, label, depth+1, max_depth=max_depth)\n",
    "\n",
    "        return branch\n",
    "\n",
    "def decision_tree(data, label, max_depth=3):\n",
    "    number=0\n",
    "    entropy=data_entropy(data)\n",
    "    tree=decision_tree_inner(data, label, 0, max_depth=3)\n",
    "    return tree"
   ]
  },
  {
   "cell_type": "code",
   "execution_count": 23,
   "metadata": {},
   "outputs": [],
   "source": [
    "my_dt = decision_tree(data_train, 'low', max_depth=2)"
   ]
  },
  {
   "cell_type": "code",
   "execution_count": 24,
   "metadata": {},
   "outputs": [
    {
     "data": {
      "text/plain": [
       "<__main__.Branch at 0x7fb3e1e26350>"
      ]
     },
     "execution_count": 24,
     "metadata": {},
     "output_type": "execute_result"
    }
   ],
   "source": [
    "my_dt"
   ]
  },
  {
   "cell_type": "markdown",
   "metadata": {},
   "source": [
    "# Visulization"
   ]
  },
  {
   "cell_type": "code",
   "execution_count": 25,
   "metadata": {},
   "outputs": [],
   "source": [
    "def get_dot_data_innner(branch:Branch, classes, dot_data):\n",
    "    if branch.value[0]<branch.value[1]:\n",
    "        the_class=classes[0]\n",
    "    else:\n",
    "        the_class=classes[1]\n",
    "    if branch.branch_positive:\n",
    "        dot_data=dot_data+'{} [label=<{}?<br/>entropy = {:.3f}<br/>samples = {}<br/>value = {}<br/>class = {}> , fillcolor=\"#FFFFFFFF\"] ;\\r\\n'.format(\n",
    "            branch.no, branch.column, branch.entropy, branch.samples, branch.value, the_class)\n",
    "    else:\n",
    "        dot_data=dot_data+'{} [label=<entropy = {:.3f}<br/>samples = {}<br/>value = {}<br/>class = {}> , fillcolor=\"#FFFFFFFF\"] ;\\r\\n'.format(\n",
    "            branch.no, branch.entropy, branch.samples, branch.value, the_class)\n",
    "    if branch.branch_negative:\n",
    "        dot_data=dot_data+'{} -> {} [labeldistance=2.5, labelangle=45, headlabel=\"no\"]; \\r\\n'.format(branch.no, branch.branch_negative.no)\n",
    "        dot_data=get_dot_data_innner(branch.branch_negative, classes, dot_data)\n",
    "        \n",
    "    if branch.branch_positive:\n",
    "        dot_data=dot_data+'{} -> {} [labeldistance=2.5, labelangle=45, headlabel=\"yes\"]; \\r\\n'.format(branch.no, branch.branch_positive.no)\n",
    "        dot_data=get_dot_data_innner(branch.branch_positive, classes, dot_data)\n",
    "  \n",
    "\n",
    "    return dot_data\n",
    "    \n",
    "def get_dot_data(branch:Branch, classes=['low','high']):\n",
    "    dot_data=\"\"\"\n",
    "digraph Tree {\n",
    "node [shape=box, style=\"filled, rounded\", color=\"black\", fontname=helvetica] ;\n",
    "edge [fontname=helvetica] ;\n",
    "\"\"\"\n",
    "    dot_data=get_dot_data_innner(branch, classes,  dot_data)\n",
    "    dot_data=dot_data+'\\r\\n}'\n",
    "    return dot_data"
   ]
  },
  {
   "cell_type": "code",
   "execution_count": 26,
   "metadata": {},
   "outputs": [],
   "source": [
    "dot_data=get_dot_data(my_dt)"
   ]
  },
  {
   "cell_type": "code",
   "execution_count": 27,
   "metadata": {},
   "outputs": [],
   "source": [
    "import graphviz"
   ]
  },
  {
   "cell_type": "code",
   "execution_count": 28,
   "metadata": {},
   "outputs": [
    {
     "data": {
      "image/svg+xml": [
       "<?xml version=\"1.0\" encoding=\"UTF-8\" standalone=\"no\"?>\n",
       "<!DOCTYPE svg PUBLIC \"-//W3C//DTD SVG 1.1//EN\"\n",
       " \"http://www.w3.org/Graphics/SVG/1.1/DTD/svg11.dtd\">\n",
       "<!-- Generated by graphviz version 2.40.1 (20161225.0304)\n",
       " -->\n",
       "<!-- Title: Tree Pages: 1 -->\n",
       "<svg width=\"1100pt\" height=\"433pt\"\n",
       " viewBox=\"0.00 0.00 1099.50 433.00\" xmlns=\"http://www.w3.org/2000/svg\" xmlns:xlink=\"http://www.w3.org/1999/xlink\">\n",
       "<g id=\"graph0\" class=\"graph\" transform=\"scale(1 1) rotate(0) translate(4 429)\">\n",
       "<title>Tree</title>\n",
       "<polygon fill=\"#ffffff\" stroke=\"transparent\" points=\"-4,4 -4,-429 1095.5,-429 1095.5,4 -4,4\"/>\n",
       "<!-- 0 -->\n",
       "<g id=\"node1\" class=\"node\">\n",
       "<title>0</title>\n",
       "<path fill=\"#ffffff\" stroke=\"#000000\" d=\"M609,-425C609,-425 489,-425 489,-425 483,-425 477,-419 477,-413 477,-413 477,-354 477,-354 477,-348 483,-342 489,-342 489,-342 609,-342 609,-342 615,-342 621,-348 621,-354 621,-354 621,-413 621,-413 621,-419 615,-425 609,-425\"/>\n",
       "<text text-anchor=\"start\" x=\"499.5\" y=\"-409.8\" font-family=\"Helvetica,sans-Serif\" font-size=\"14.00\" fill=\"#000000\">edu_associate?</text>\n",
       "<text text-anchor=\"start\" x=\"500\" y=\"-394.8\" font-family=\"Helvetica,sans-Serif\" font-size=\"14.00\" fill=\"#000000\">entropy = 0.996</text>\n",
       "<text text-anchor=\"start\" x=\"499\" y=\"-379.8\" font-family=\"Helvetica,sans-Serif\" font-size=\"14.00\" fill=\"#000000\">samples = 3888</text>\n",
       "<text text-anchor=\"start\" x=\"485\" y=\"-364.8\" font-family=\"Helvetica,sans-Serif\" font-size=\"14.00\" fill=\"#000000\">value = [1802, 2086]</text>\n",
       "<text text-anchor=\"start\" x=\"514.5\" y=\"-349.8\" font-family=\"Helvetica,sans-Serif\" font-size=\"14.00\" fill=\"#000000\">class = low</text>\n",
       "</g>\n",
       "<!-- 1 -->\n",
       "<g id=\"node2\" class=\"node\">\n",
       "<title>1</title>\n",
       "<path fill=\"#ffffff\" stroke=\"#000000\" d=\"M478,-306C478,-306 358,-306 358,-306 352,-306 346,-300 346,-294 346,-294 346,-235 346,-235 346,-229 352,-223 358,-223 358,-223 478,-223 478,-223 484,-223 490,-229 490,-235 490,-235 490,-294 490,-294 490,-300 484,-306 478,-306\"/>\n",
       "<text text-anchor=\"start\" x=\"361.5\" y=\"-290.8\" font-family=\"Helvetica,sans-Serif\" font-size=\"14.00\" fill=\"#000000\">career_algorithm?</text>\n",
       "<text text-anchor=\"start\" x=\"369\" y=\"-275.8\" font-family=\"Helvetica,sans-Serif\" font-size=\"14.00\" fill=\"#000000\">entropy = 0.990</text>\n",
       "<text text-anchor=\"start\" x=\"368\" y=\"-260.8\" font-family=\"Helvetica,sans-Serif\" font-size=\"14.00\" fill=\"#000000\">samples = 2747</text>\n",
       "<text text-anchor=\"start\" x=\"354\" y=\"-245.8\" font-family=\"Helvetica,sans-Serif\" font-size=\"14.00\" fill=\"#000000\">value = [1535, 1212]</text>\n",
       "<text text-anchor=\"start\" x=\"380.5\" y=\"-230.8\" font-family=\"Helvetica,sans-Serif\" font-size=\"14.00\" fill=\"#000000\">class = high</text>\n",
       "</g>\n",
       "<!-- 0&#45;&gt;1 -->\n",
       "<g id=\"edge1\" class=\"edge\">\n",
       "<title>0&#45;&gt;1</title>\n",
       "<path fill=\"none\" stroke=\"#000000\" d=\"M503.1826,-341.8796C492.9706,-332.6031 482.055,-322.6874 471.5624,-313.1559\"/>\n",
       "<polygon fill=\"#000000\" stroke=\"#000000\" points=\"473.7684,-310.4313 464.013,-306.2981 469.0616,-315.6127 473.7684,-310.4313\"/>\n",
       "<text text-anchor=\"middle\" x=\"465.2116\" y=\"-327.5693\" font-family=\"Helvetica,sans-Serif\" font-size=\"14.00\" fill=\"#000000\">no</text>\n",
       "</g>\n",
       "<!-- 16 -->\n",
       "<g id=\"node9\" class=\"node\">\n",
       "<title>16</title>\n",
       "<path fill=\"#ffffff\" stroke=\"#000000\" d=\"M744,-306C744,-306 640,-306 640,-306 634,-306 628,-300 628,-294 628,-294 628,-235 628,-235 628,-229 634,-223 640,-223 640,-223 744,-223 744,-223 750,-223 756,-229 756,-235 756,-235 756,-294 756,-294 756,-300 750,-306 744,-306\"/>\n",
       "<text text-anchor=\"start\" x=\"658.5\" y=\"-290.8\" font-family=\"Helvetica,sans-Serif\" font-size=\"14.00\" fill=\"#000000\">db_Redis?</text>\n",
       "<text text-anchor=\"start\" x=\"643\" y=\"-275.8\" font-family=\"Helvetica,sans-Serif\" font-size=\"14.00\" fill=\"#000000\">entropy = 0.785</text>\n",
       "<text text-anchor=\"start\" x=\"642\" y=\"-260.8\" font-family=\"Helvetica,sans-Serif\" font-size=\"14.00\" fill=\"#000000\">samples = 1141</text>\n",
       "<text text-anchor=\"start\" x=\"636\" y=\"-245.8\" font-family=\"Helvetica,sans-Serif\" font-size=\"14.00\" fill=\"#000000\">value = [267, 874]</text>\n",
       "<text text-anchor=\"start\" x=\"657.5\" y=\"-230.8\" font-family=\"Helvetica,sans-Serif\" font-size=\"14.00\" fill=\"#000000\">class = low</text>\n",
       "</g>\n",
       "<!-- 0&#45;&gt;16 -->\n",
       "<g id=\"edge8\" class=\"edge\">\n",
       "<title>0&#45;&gt;16</title>\n",
       "<path fill=\"none\" stroke=\"#000000\" d=\"M599.0145,-341.8796C610.2701,-332.513 622.3088,-322.4948 633.8646,-312.8784\"/>\n",
       "<polygon fill=\"#000000\" stroke=\"#000000\" points=\"636.3242,-315.385 641.7721,-306.2981 631.8466,-310.0043 636.3242,-315.385\"/>\n",
       "<text text-anchor=\"middle\" x=\"616.8763\" y=\"-300.3175\" font-family=\"Helvetica,sans-Serif\" font-size=\"14.00\" fill=\"#000000\">yes</text>\n",
       "</g>\n",
       "<!-- 2 -->\n",
       "<g id=\"node3\" class=\"node\">\n",
       "<title>2</title>\n",
       "<path fill=\"#ffffff\" stroke=\"#000000\" d=\"M274,-187C274,-187 154,-187 154,-187 148,-187 142,-181 142,-175 142,-175 142,-116 142,-116 142,-110 148,-104 154,-104 154,-104 274,-104 274,-104 280,-104 286,-110 286,-116 286,-116 286,-175 286,-175 286,-181 280,-187 274,-187\"/>\n",
       "<text text-anchor=\"start\" x=\"192.5\" y=\"-171.8\" font-family=\"Helvetica,sans-Serif\" font-size=\"14.00\" fill=\"#000000\">pl_go?</text>\n",
       "<text text-anchor=\"start\" x=\"165\" y=\"-156.8\" font-family=\"Helvetica,sans-Serif\" font-size=\"14.00\" fill=\"#000000\">entropy = 0.999</text>\n",
       "<text text-anchor=\"start\" x=\"164\" y=\"-141.8\" font-family=\"Helvetica,sans-Serif\" font-size=\"14.00\" fill=\"#000000\">samples = 2383</text>\n",
       "<text text-anchor=\"start\" x=\"150\" y=\"-126.8\" font-family=\"Helvetica,sans-Serif\" font-size=\"14.00\" fill=\"#000000\">value = [1224, 1159]</text>\n",
       "<text text-anchor=\"start\" x=\"176.5\" y=\"-111.8\" font-family=\"Helvetica,sans-Serif\" font-size=\"14.00\" fill=\"#000000\">class = high</text>\n",
       "</g>\n",
       "<!-- 1&#45;&gt;2 -->\n",
       "<g id=\"edge2\" class=\"edge\">\n",
       "<title>1&#45;&gt;2</title>\n",
       "<path fill=\"none\" stroke=\"#000000\" d=\"M346.6507,-222.8796C329.7239,-213.0056 311.5556,-202.4075 294.2617,-192.3193\"/>\n",
       "<polygon fill=\"#000000\" stroke=\"#000000\" points=\"295.7104,-189.1125 285.309,-187.0969 292.1833,-195.1589 295.7104,-189.1125\"/>\n",
       "<text text-anchor=\"middle\" x=\"291.6713\" y=\"-207.5738\" font-family=\"Helvetica,sans-Serif\" font-size=\"14.00\" fill=\"#000000\">no</text>\n",
       "</g>\n",
       "<!-- 9 -->\n",
       "<g id=\"node6\" class=\"node\">\n",
       "<title>9</title>\n",
       "<path fill=\"#ffffff\" stroke=\"#000000\" d=\"M466,-187C466,-187 370,-187 370,-187 364,-187 358,-181 358,-175 358,-175 358,-116 358,-116 358,-110 364,-104 370,-104 370,-104 466,-104 466,-104 472,-104 478,-110 478,-116 478,-116 478,-175 478,-175 478,-181 472,-187 466,-187\"/>\n",
       "<text text-anchor=\"start\" x=\"379.5\" y=\"-171.8\" font-family=\"Helvetica,sans-Serif\" font-size=\"14.00\" fill=\"#000000\">pl_c_sharp?</text>\n",
       "<text text-anchor=\"start\" x=\"369\" y=\"-156.8\" font-family=\"Helvetica,sans-Serif\" font-size=\"14.00\" fill=\"#000000\">entropy = 0.599</text>\n",
       "<text text-anchor=\"start\" x=\"372\" y=\"-141.8\" font-family=\"Helvetica,sans-Serif\" font-size=\"14.00\" fill=\"#000000\">samples = 364</text>\n",
       "<text text-anchor=\"start\" x=\"366\" y=\"-126.8\" font-family=\"Helvetica,sans-Serif\" font-size=\"14.00\" fill=\"#000000\">value = [311, 53]</text>\n",
       "<text text-anchor=\"start\" x=\"380.5\" y=\"-111.8\" font-family=\"Helvetica,sans-Serif\" font-size=\"14.00\" fill=\"#000000\">class = high</text>\n",
       "</g>\n",
       "<!-- 1&#45;&gt;9 -->\n",
       "<g id=\"edge5\" class=\"edge\">\n",
       "<title>1&#45;&gt;9</title>\n",
       "<path fill=\"none\" stroke=\"#000000\" d=\"M418,-222.8796C418,-214.6838 418,-205.9891 418,-197.5013\"/>\n",
       "<polygon fill=\"#000000\" stroke=\"#000000\" points=\"421.5001,-197.298 418,-187.2981 414.5001,-197.2981 421.5001,-197.298\"/>\n",
       "<text text-anchor=\"middle\" x=\"400.3223\" y=\"-201.2757\" font-family=\"Helvetica,sans-Serif\" font-size=\"14.00\" fill=\"#000000\">yes</text>\n",
       "</g>\n",
       "<!-- 3 -->\n",
       "<g id=\"node4\" class=\"node\">\n",
       "<title>3</title>\n",
       "<path fill=\"#ffffff\" stroke=\"#000000\" d=\"M124,-68C124,-68 12,-68 12,-68 6,-68 0,-62 0,-56 0,-56 0,-12 0,-12 0,-6 6,0 12,0 12,0 124,0 124,0 130,0 136,-6 136,-12 136,-12 136,-56 136,-56 136,-62 130,-68 124,-68\"/>\n",
       "<text text-anchor=\"start\" x=\"19\" y=\"-52.8\" font-family=\"Helvetica,sans-Serif\" font-size=\"14.00\" fill=\"#000000\">entropy = 0.999</text>\n",
       "<text text-anchor=\"start\" x=\"18\" y=\"-37.8\" font-family=\"Helvetica,sans-Serif\" font-size=\"14.00\" fill=\"#000000\">samples = 2059</text>\n",
       "<text text-anchor=\"start\" x=\"8\" y=\"-22.8\" font-family=\"Helvetica,sans-Serif\" font-size=\"14.00\" fill=\"#000000\">value = [998, 1061]</text>\n",
       "<text text-anchor=\"start\" x=\"33.5\" y=\"-7.8\" font-family=\"Helvetica,sans-Serif\" font-size=\"14.00\" fill=\"#000000\">class = low</text>\n",
       "</g>\n",
       "<!-- 2&#45;&gt;3 -->\n",
       "<g id=\"edge3\" class=\"edge\">\n",
       "<title>2&#45;&gt;3</title>\n",
       "<path fill=\"none\" stroke=\"#000000\" d=\"M159.635,-103.9815C146.9989,-94.3313 133.5644,-84.0714 120.9885,-74.4673\"/>\n",
       "<polygon fill=\"#000000\" stroke=\"#000000\" points=\"122.9372,-71.5515 112.8654,-68.2637 118.6886,-77.1148 122.9372,-71.5515\"/>\n",
       "<text text-anchor=\"middle\" x=\"116.1853\" y=\"-89.3423\" font-family=\"Helvetica,sans-Serif\" font-size=\"14.00\" fill=\"#000000\">no</text>\n",
       "</g>\n",
       "<!-- 6 -->\n",
       "<g id=\"node5\" class=\"node\">\n",
       "<title>6</title>\n",
       "<path fill=\"#ffffff\" stroke=\"#000000\" d=\"M262,-68C262,-68 166,-68 166,-68 160,-68 154,-62 154,-56 154,-56 154,-12 154,-12 154,-6 160,0 166,0 166,0 262,0 262,0 268,0 274,-6 274,-12 274,-12 274,-56 274,-56 274,-62 268,-68 262,-68\"/>\n",
       "<text text-anchor=\"start\" x=\"165\" y=\"-52.8\" font-family=\"Helvetica,sans-Serif\" font-size=\"14.00\" fill=\"#000000\">entropy = 0.884</text>\n",
       "<text text-anchor=\"start\" x=\"168\" y=\"-37.8\" font-family=\"Helvetica,sans-Serif\" font-size=\"14.00\" fill=\"#000000\">samples = 324</text>\n",
       "<text text-anchor=\"start\" x=\"162\" y=\"-22.8\" font-family=\"Helvetica,sans-Serif\" font-size=\"14.00\" fill=\"#000000\">value = [226, 98]</text>\n",
       "<text text-anchor=\"start\" x=\"176.5\" y=\"-7.8\" font-family=\"Helvetica,sans-Serif\" font-size=\"14.00\" fill=\"#000000\">class = high</text>\n",
       "</g>\n",
       "<!-- 2&#45;&gt;6 -->\n",
       "<g id=\"edge4\" class=\"edge\">\n",
       "<title>2&#45;&gt;6</title>\n",
       "<path fill=\"none\" stroke=\"#000000\" d=\"M214,-103.9815C214,-95.618 214,-86.7965 214,-78.3409\"/>\n",
       "<polygon fill=\"#000000\" stroke=\"#000000\" points=\"217.5001,-78.2636 214,-68.2637 210.5001,-78.2637 217.5001,-78.2636\"/>\n",
       "<text text-anchor=\"middle\" x=\"196.3223\" y=\"-82.2413\" font-family=\"Helvetica,sans-Serif\" font-size=\"14.00\" fill=\"#000000\">yes</text>\n",
       "</g>\n",
       "<!-- 10 -->\n",
       "<g id=\"node7\" class=\"node\">\n",
       "<title>10</title>\n",
       "<path fill=\"#ffffff\" stroke=\"#000000\" d=\"M400,-68C400,-68 304,-68 304,-68 298,-68 292,-62 292,-56 292,-56 292,-12 292,-12 292,-6 298,0 304,0 304,0 400,0 400,0 406,0 412,-6 412,-12 412,-12 412,-56 412,-56 412,-62 406,-68 400,-68\"/>\n",
       "<text text-anchor=\"start\" x=\"303\" y=\"-52.8\" font-family=\"Helvetica,sans-Serif\" font-size=\"14.00\" fill=\"#000000\">entropy = 0.536</text>\n",
       "<text text-anchor=\"start\" x=\"306\" y=\"-37.8\" font-family=\"Helvetica,sans-Serif\" font-size=\"14.00\" fill=\"#000000\">samples = 343</text>\n",
       "<text text-anchor=\"start\" x=\"300\" y=\"-22.8\" font-family=\"Helvetica,sans-Serif\" font-size=\"14.00\" fill=\"#000000\">value = [301, 42]</text>\n",
       "<text text-anchor=\"start\" x=\"314.5\" y=\"-7.8\" font-family=\"Helvetica,sans-Serif\" font-size=\"14.00\" fill=\"#000000\">class = high</text>\n",
       "</g>\n",
       "<!-- 9&#45;&gt;10 -->\n",
       "<g id=\"edge6\" class=\"edge\">\n",
       "<title>9&#45;&gt;10</title>\n",
       "<path fill=\"none\" stroke=\"#000000\" d=\"M393.424,-103.9815C388.2014,-95.1585 382.6771,-85.8258 377.4237,-76.9506\"/>\n",
       "<polygon fill=\"#000000\" stroke=\"#000000\" points=\"380.3874,-75.0863 372.2816,-68.2637 374.3636,-78.652 380.3874,-75.0863\"/>\n",
       "<text text-anchor=\"middle\" x=\"366.0739\" y=\"-88.7807\" font-family=\"Helvetica,sans-Serif\" font-size=\"14.00\" fill=\"#000000\">no</text>\n",
       "</g>\n",
       "<!-- 13 -->\n",
       "<g id=\"node8\" class=\"node\">\n",
       "<title>13</title>\n",
       "<path fill=\"#ffffff\" stroke=\"#000000\" d=\"M532,-68C532,-68 442,-68 442,-68 436,-68 430,-62 430,-56 430,-56 430,-12 430,-12 430,-6 436,0 442,0 442,0 532,0 532,0 538,0 544,-6 544,-12 544,-12 544,-56 544,-56 544,-62 538,-68 532,-68\"/>\n",
       "<text text-anchor=\"start\" x=\"438\" y=\"-52.8\" font-family=\"Helvetica,sans-Serif\" font-size=\"14.00\" fill=\"#000000\">entropy = 0.998</text>\n",
       "<text text-anchor=\"start\" x=\"445\" y=\"-37.8\" font-family=\"Helvetica,sans-Serif\" font-size=\"14.00\" fill=\"#000000\">samples = 21</text>\n",
       "<text text-anchor=\"start\" x=\"438.5\" y=\"-22.8\" font-family=\"Helvetica,sans-Serif\" font-size=\"14.00\" fill=\"#000000\">value = [10, 11]</text>\n",
       "<text text-anchor=\"start\" x=\"452.5\" y=\"-7.8\" font-family=\"Helvetica,sans-Serif\" font-size=\"14.00\" fill=\"#000000\">class = low</text>\n",
       "</g>\n",
       "<!-- 9&#45;&gt;13 -->\n",
       "<g id=\"edge7\" class=\"edge\">\n",
       "<title>9&#45;&gt;13</title>\n",
       "<path fill=\"none\" stroke=\"#000000\" d=\"M443.6931,-103.9815C449.1531,-95.1585 454.9284,-85.8258 460.4207,-76.9506\"/>\n",
       "<polygon fill=\"#000000\" stroke=\"#000000\" points=\"463.5104,-78.609 465.7965,-68.2637 457.558,-74.9254 463.5104,-78.609\"/>\n",
       "<text text-anchor=\"middle\" x=\"441.4619\" y=\"-70.2934\" font-family=\"Helvetica,sans-Serif\" font-size=\"14.00\" fill=\"#000000\">yes</text>\n",
       "</g>\n",
       "<!-- 17 -->\n",
       "<g id=\"node10\" class=\"node\">\n",
       "<title>17</title>\n",
       "<path fill=\"#ffffff\" stroke=\"#000000\" d=\"M744,-187C744,-187 640,-187 640,-187 634,-187 628,-181 628,-175 628,-175 628,-116 628,-116 628,-110 634,-104 640,-104 640,-104 744,-104 744,-104 750,-104 756,-110 756,-116 756,-116 756,-175 756,-175 756,-181 750,-187 744,-187\"/>\n",
       "<text text-anchor=\"start\" x=\"667\" y=\"-171.8\" font-family=\"Helvetica,sans-Serif\" font-size=\"14.00\" fill=\"#000000\">pl_cpp?</text>\n",
       "<text text-anchor=\"start\" x=\"643\" y=\"-156.8\" font-family=\"Helvetica,sans-Serif\" font-size=\"14.00\" fill=\"#000000\">entropy = 0.731</text>\n",
       "<text text-anchor=\"start\" x=\"646\" y=\"-141.8\" font-family=\"Helvetica,sans-Serif\" font-size=\"14.00\" fill=\"#000000\">samples = 996</text>\n",
       "<text text-anchor=\"start\" x=\"636\" y=\"-126.8\" font-family=\"Helvetica,sans-Serif\" font-size=\"14.00\" fill=\"#000000\">value = [204, 792]</text>\n",
       "<text text-anchor=\"start\" x=\"657.5\" y=\"-111.8\" font-family=\"Helvetica,sans-Serif\" font-size=\"14.00\" fill=\"#000000\">class = low</text>\n",
       "</g>\n",
       "<!-- 16&#45;&gt;17 -->\n",
       "<g id=\"edge9\" class=\"edge\">\n",
       "<title>16&#45;&gt;17</title>\n",
       "<path fill=\"none\" stroke=\"#000000\" d=\"M692,-222.8796C692,-214.6838 692,-205.9891 692,-197.5013\"/>\n",
       "<polygon fill=\"#000000\" stroke=\"#000000\" points=\"695.5001,-197.298 692,-187.2981 688.5001,-197.2981 695.5001,-197.298\"/>\n",
       "<text text-anchor=\"middle\" x=\"674.3223\" y=\"-201.2757\" font-family=\"Helvetica,sans-Serif\" font-size=\"14.00\" fill=\"#000000\">no</text>\n",
       "</g>\n",
       "<!-- 24 -->\n",
       "<g id=\"node13\" class=\"node\">\n",
       "<title>24</title>\n",
       "<path fill=\"#ffffff\" stroke=\"#000000\" d=\"M942,-187C942,-187 852,-187 852,-187 846,-187 840,-181 840,-175 840,-175 840,-116 840,-116 840,-110 846,-104 852,-104 852,-104 942,-104 942,-104 948,-104 954,-110 954,-116 954,-116 954,-175 954,-175 954,-181 948,-187 942,-187\"/>\n",
       "<text text-anchor=\"start\" x=\"874\" y=\"-171.8\" font-family=\"Helvetica,sans-Serif\" font-size=\"14.00\" fill=\"#000000\">pl_lua?</text>\n",
       "<text text-anchor=\"start\" x=\"848\" y=\"-156.8\" font-family=\"Helvetica,sans-Serif\" font-size=\"14.00\" fill=\"#000000\">entropy = 0.988</text>\n",
       "<text text-anchor=\"start\" x=\"851\" y=\"-141.8\" font-family=\"Helvetica,sans-Serif\" font-size=\"14.00\" fill=\"#000000\">samples = 145</text>\n",
       "<text text-anchor=\"start\" x=\"848.5\" y=\"-126.8\" font-family=\"Helvetica,sans-Serif\" font-size=\"14.00\" fill=\"#000000\">value = [63, 82]</text>\n",
       "<text text-anchor=\"start\" x=\"862.5\" y=\"-111.8\" font-family=\"Helvetica,sans-Serif\" font-size=\"14.00\" fill=\"#000000\">class = low</text>\n",
       "</g>\n",
       "<!-- 16&#45;&gt;24 -->\n",
       "<g id=\"edge12\" class=\"edge\">\n",
       "<title>16&#45;&gt;24</title>\n",
       "<path fill=\"none\" stroke=\"#000000\" d=\"M756.02,-227.3371C779.8757,-213.4893 806.9844,-197.753 831.0134,-183.8044\"/>\n",
       "<polygon fill=\"#000000\" stroke=\"#000000\" points=\"832.8237,-186.8006 839.7151,-178.7532 829.3095,-180.7466 832.8237,-186.8006\"/>\n",
       "<text text-anchor=\"middle\" x=\"815.5518\" y=\"-168.6395\" font-family=\"Helvetica,sans-Serif\" font-size=\"14.00\" fill=\"#000000\">yes</text>\n",
       "</g>\n",
       "<!-- 18 -->\n",
       "<g id=\"node11\" class=\"node\">\n",
       "<title>18</title>\n",
       "<path fill=\"#ffffff\" stroke=\"#000000\" d=\"M678,-68C678,-68 574,-68 574,-68 568,-68 562,-62 562,-56 562,-56 562,-12 562,-12 562,-6 568,0 574,0 574,0 678,0 678,0 684,0 690,-6 690,-12 690,-12 690,-56 690,-56 690,-62 684,-68 678,-68\"/>\n",
       "<text text-anchor=\"start\" x=\"577\" y=\"-52.8\" font-family=\"Helvetica,sans-Serif\" font-size=\"14.00\" fill=\"#000000\">entropy = 0.668</text>\n",
       "<text text-anchor=\"start\" x=\"580\" y=\"-37.8\" font-family=\"Helvetica,sans-Serif\" font-size=\"14.00\" fill=\"#000000\">samples = 877</text>\n",
       "<text text-anchor=\"start\" x=\"570\" y=\"-22.8\" font-family=\"Helvetica,sans-Serif\" font-size=\"14.00\" fill=\"#000000\">value = [153, 724]</text>\n",
       "<text text-anchor=\"start\" x=\"591.5\" y=\"-7.8\" font-family=\"Helvetica,sans-Serif\" font-size=\"14.00\" fill=\"#000000\">class = low</text>\n",
       "</g>\n",
       "<!-- 17&#45;&gt;18 -->\n",
       "<g id=\"edge10\" class=\"edge\">\n",
       "<title>17&#45;&gt;18</title>\n",
       "<path fill=\"none\" stroke=\"#000000\" d=\"M667.424,-103.9815C662.2014,-95.1585 656.6771,-85.8258 651.4237,-76.9506\"/>\n",
       "<polygon fill=\"#000000\" stroke=\"#000000\" points=\"654.3874,-75.0863 646.2816,-68.2637 648.3636,-78.652 654.3874,-75.0863\"/>\n",
       "<text text-anchor=\"middle\" x=\"640.0739\" y=\"-88.7807\" font-family=\"Helvetica,sans-Serif\" font-size=\"14.00\" fill=\"#000000\">no</text>\n",
       "</g>\n",
       "<!-- 21 -->\n",
       "<g id=\"node12\" class=\"node\">\n",
       "<title>21</title>\n",
       "<path fill=\"#ffffff\" stroke=\"#000000\" d=\"M810,-68C810,-68 720,-68 720,-68 714,-68 708,-62 708,-56 708,-56 708,-12 708,-12 708,-6 714,0 720,0 720,0 810,0 810,0 816,0 822,-6 822,-12 822,-12 822,-56 822,-56 822,-62 816,-68 810,-68\"/>\n",
       "<text text-anchor=\"start\" x=\"716\" y=\"-52.8\" font-family=\"Helvetica,sans-Serif\" font-size=\"14.00\" fill=\"#000000\">entropy = 0.985</text>\n",
       "<text text-anchor=\"start\" x=\"719\" y=\"-37.8\" font-family=\"Helvetica,sans-Serif\" font-size=\"14.00\" fill=\"#000000\">samples = 119</text>\n",
       "<text text-anchor=\"start\" x=\"716.5\" y=\"-22.8\" font-family=\"Helvetica,sans-Serif\" font-size=\"14.00\" fill=\"#000000\">value = [51, 68]</text>\n",
       "<text text-anchor=\"start\" x=\"730.5\" y=\"-7.8\" font-family=\"Helvetica,sans-Serif\" font-size=\"14.00\" fill=\"#000000\">class = low</text>\n",
       "</g>\n",
       "<!-- 17&#45;&gt;21 -->\n",
       "<g id=\"edge11\" class=\"edge\">\n",
       "<title>17&#45;&gt;21</title>\n",
       "<path fill=\"none\" stroke=\"#000000\" d=\"M719.1825,-103.9815C725.0192,-95.0666 731.1966,-85.6313 737.0614,-76.6734\"/>\n",
       "<polygon fill=\"#000000\" stroke=\"#000000\" points=\"740.0179,-78.5472 742.5673,-68.2637 734.1614,-74.7129 740.0179,-78.5472\"/>\n",
       "<text text-anchor=\"middle\" x=\"718.0944\" y=\"-69.6705\" font-family=\"Helvetica,sans-Serif\" font-size=\"14.00\" fill=\"#000000\">yes</text>\n",
       "</g>\n",
       "<!-- 25 -->\n",
       "<g id=\"node14\" class=\"node\">\n",
       "<title>25</title>\n",
       "<path fill=\"#ffffff\" stroke=\"#000000\" d=\"M942,-68C942,-68 852,-68 852,-68 846,-68 840,-62 840,-56 840,-56 840,-12 840,-12 840,-6 846,0 852,0 852,0 942,0 942,0 948,0 954,-6 954,-12 954,-12 954,-56 954,-56 954,-62 948,-68 942,-68\"/>\n",
       "<text text-anchor=\"start\" x=\"848\" y=\"-52.8\" font-family=\"Helvetica,sans-Serif\" font-size=\"14.00\" fill=\"#000000\">entropy = 0.981</text>\n",
       "<text text-anchor=\"start\" x=\"851\" y=\"-37.8\" font-family=\"Helvetica,sans-Serif\" font-size=\"14.00\" fill=\"#000000\">samples = 141</text>\n",
       "<text text-anchor=\"start\" x=\"848.5\" y=\"-22.8\" font-family=\"Helvetica,sans-Serif\" font-size=\"14.00\" fill=\"#000000\">value = [59, 82]</text>\n",
       "<text text-anchor=\"start\" x=\"862.5\" y=\"-7.8\" font-family=\"Helvetica,sans-Serif\" font-size=\"14.00\" fill=\"#000000\">class = low</text>\n",
       "</g>\n",
       "<!-- 24&#45;&gt;25 -->\n",
       "<g id=\"edge13\" class=\"edge\">\n",
       "<title>24&#45;&gt;25</title>\n",
       "<path fill=\"none\" stroke=\"#000000\" d=\"M897,-103.9815C897,-95.618 897,-86.7965 897,-78.3409\"/>\n",
       "<polygon fill=\"#000000\" stroke=\"#000000\" points=\"900.5001,-78.2636 897,-68.2637 893.5001,-78.2637 900.5001,-78.2636\"/>\n",
       "<text text-anchor=\"middle\" x=\"879.3223\" y=\"-82.2413\" font-family=\"Helvetica,sans-Serif\" font-size=\"14.00\" fill=\"#000000\">no</text>\n",
       "</g>\n",
       "<!-- 28 -->\n",
       "<g id=\"node15\" class=\"node\">\n",
       "<title>28</title>\n",
       "<path fill=\"#ffffff\" stroke=\"#000000\" d=\"M1079.5,-68C1079.5,-68 984.5,-68 984.5,-68 978.5,-68 972.5,-62 972.5,-56 972.5,-56 972.5,-12 972.5,-12 972.5,-6 978.5,0 984.5,0 984.5,0 1079.5,0 1079.5,0 1085.5,0 1091.5,-6 1091.5,-12 1091.5,-12 1091.5,-56 1091.5,-56 1091.5,-62 1085.5,-68 1079.5,-68\"/>\n",
       "<text text-anchor=\"start\" x=\"980.5\" y=\"-52.8\" font-family=\"Helvetica,sans-Serif\" font-size=\"14.00\" fill=\"#000000\">entropy = &#45;0.000</text>\n",
       "<text text-anchor=\"start\" x=\"994\" y=\"-37.8\" font-family=\"Helvetica,sans-Serif\" font-size=\"14.00\" fill=\"#000000\">samples = 4</text>\n",
       "<text text-anchor=\"start\" x=\"991.5\" y=\"-22.8\" font-family=\"Helvetica,sans-Serif\" font-size=\"14.00\" fill=\"#000000\">value = [4, 0]</text>\n",
       "<text text-anchor=\"start\" x=\"994.5\" y=\"-7.8\" font-family=\"Helvetica,sans-Serif\" font-size=\"14.00\" fill=\"#000000\">class = high</text>\n",
       "</g>\n",
       "<!-- 24&#45;&gt;28 -->\n",
       "<g id=\"edge14\" class=\"edge\">\n",
       "<title>24&#45;&gt;28</title>\n",
       "<path fill=\"none\" stroke=\"#000000\" d=\"M947.269,-103.9815C958.8418,-94.4232 971.1389,-84.2668 982.6713,-74.7419\"/>\n",
       "<polygon fill=\"#000000\" stroke=\"#000000\" points=\"985.0334,-77.3304 990.5148,-68.2637 980.5757,-71.9332 985.0334,-77.3304\"/>\n",
       "<text text-anchor=\"middle\" x=\"965.6277\" y=\"-62.1911\" font-family=\"Helvetica,sans-Serif\" font-size=\"14.00\" fill=\"#000000\">yes</text>\n",
       "</g>\n",
       "</g>\n",
       "</svg>\n"
      ],
      "text/plain": [
       "<graphviz.files.Source at 0x7fb3e3c957d0>"
      ]
     },
     "execution_count": 28,
     "metadata": {},
     "output_type": "execute_result"
    }
   ],
   "source": [
    "graph = graphviz.Source(dot_data) \n",
    "graph.render('./data/my_dt', format='png')\n",
    "graph"
   ]
  },
  {
   "cell_type": "markdown",
   "metadata": {},
   "source": [
    "# Decision Tree with Scikit-Learn"
   ]
  },
  {
   "cell_type": "code",
   "execution_count": 30,
   "metadata": {},
   "outputs": [],
   "source": [
    "from sklearn.tree import DecisionTreeClassifier\n",
    "dt = DecisionTreeClassifier(criterion='entropy', max_depth=3)\n",
    "model=dt.fit(X_train, y_train)"
   ]
  },
  {
   "cell_type": "code",
   "execution_count": 31,
   "metadata": {},
   "outputs": [
    {
     "data": {
      "text/plain": [
       "0.6370884773662552"
      ]
     },
     "execution_count": 31,
     "metadata": {},
     "output_type": "execute_result"
    }
   ],
   "source": [
    "model.score(X_train, y_train)"
   ]
  },
  {
   "cell_type": "code",
   "execution_count": 32,
   "metadata": {},
   "outputs": [
    {
     "data": {
      "text/plain": [
       "0.6560319042871385"
      ]
     },
     "execution_count": 32,
     "metadata": {},
     "output_type": "execute_result"
    }
   ],
   "source": [
    "model.score(X_test, y_test)"
   ]
  },
  {
   "cell_type": "code",
   "execution_count": 33,
   "metadata": {},
   "outputs": [
    {
     "data": {
      "image/svg+xml": [
       "<?xml version=\"1.0\" encoding=\"UTF-8\" standalone=\"no\"?>\n",
       "<!DOCTYPE svg PUBLIC \"-//W3C//DTD SVG 1.1//EN\"\n",
       " \"http://www.w3.org/Graphics/SVG/1.1/DTD/svg11.dtd\">\n",
       "<!-- Generated by graphviz version 2.40.1 (20161225.0304)\n",
       " -->\n",
       "<!-- Title: Tree Pages: 1 -->\n",
       "<svg width=\"1080pt\" height=\"433pt\"\n",
       " viewBox=\"0.00 0.00 1079.50 433.00\" xmlns=\"http://www.w3.org/2000/svg\" xmlns:xlink=\"http://www.w3.org/1999/xlink\">\n",
       "<g id=\"graph0\" class=\"graph\" transform=\"scale(1 1) rotate(0) translate(4 429)\">\n",
       "<title>Tree</title>\n",
       "<polygon fill=\"#ffffff\" stroke=\"transparent\" points=\"-4,4 -4,-429 1075.5,-429 1075.5,4 -4,4\"/>\n",
       "<!-- 0 -->\n",
       "<g id=\"node1\" class=\"node\">\n",
       "<title>0</title>\n",
       "<path fill=\"#e4f2fb\" stroke=\"#000000\" d=\"M609,-425C609,-425 489,-425 489,-425 483,-425 477,-419 477,-413 477,-413 477,-354 477,-354 477,-348 483,-342 489,-342 489,-342 609,-342 609,-342 615,-342 621,-348 621,-354 621,-354 621,-413 621,-413 621,-419 615,-425 609,-425\"/>\n",
       "<text text-anchor=\"start\" x=\"499.5\" y=\"-409.8\" font-family=\"Helvetica,sans-Serif\" font-size=\"14.00\" fill=\"#000000\">edu_associate?</text>\n",
       "<text text-anchor=\"start\" x=\"500\" y=\"-394.8\" font-family=\"Helvetica,sans-Serif\" font-size=\"14.00\" fill=\"#000000\">entropy = 0.996</text>\n",
       "<text text-anchor=\"start\" x=\"499\" y=\"-379.8\" font-family=\"Helvetica,sans-Serif\" font-size=\"14.00\" fill=\"#000000\">samples = 3888</text>\n",
       "<text text-anchor=\"start\" x=\"485\" y=\"-364.8\" font-family=\"Helvetica,sans-Serif\" font-size=\"14.00\" fill=\"#000000\">value = [1802, 2086]</text>\n",
       "<text text-anchor=\"start\" x=\"514.5\" y=\"-349.8\" font-family=\"Helvetica,sans-Serif\" font-size=\"14.00\" fill=\"#000000\">class = low</text>\n",
       "</g>\n",
       "<!-- 1 -->\n",
       "<g id=\"node2\" class=\"node\">\n",
       "<title>1</title>\n",
       "<path fill=\"#fae4d5\" stroke=\"#000000\" d=\"M478,-306C478,-306 358,-306 358,-306 352,-306 346,-300 346,-294 346,-294 346,-235 346,-235 346,-229 352,-223 358,-223 358,-223 478,-223 478,-223 484,-223 490,-229 490,-235 490,-235 490,-294 490,-294 490,-300 484,-306 478,-306\"/>\n",
       "<text text-anchor=\"start\" x=\"361.5\" y=\"-290.8\" font-family=\"Helvetica,sans-Serif\" font-size=\"14.00\" fill=\"#000000\">career_algorithm?</text>\n",
       "<text text-anchor=\"start\" x=\"373\" y=\"-275.8\" font-family=\"Helvetica,sans-Serif\" font-size=\"14.00\" fill=\"#000000\">entropy = 0.99</text>\n",
       "<text text-anchor=\"start\" x=\"368\" y=\"-260.8\" font-family=\"Helvetica,sans-Serif\" font-size=\"14.00\" fill=\"#000000\">samples = 2747</text>\n",
       "<text text-anchor=\"start\" x=\"354\" y=\"-245.8\" font-family=\"Helvetica,sans-Serif\" font-size=\"14.00\" fill=\"#000000\">value = [1535, 1212]</text>\n",
       "<text text-anchor=\"start\" x=\"380.5\" y=\"-230.8\" font-family=\"Helvetica,sans-Serif\" font-size=\"14.00\" fill=\"#000000\">class = high</text>\n",
       "</g>\n",
       "<!-- 0&#45;&gt;1 -->\n",
       "<g id=\"edge1\" class=\"edge\">\n",
       "<title>0&#45;&gt;1</title>\n",
       "<path fill=\"none\" stroke=\"#000000\" d=\"M503.1826,-341.8796C492.9706,-332.6031 482.055,-322.6874 471.5624,-313.1559\"/>\n",
       "<polygon fill=\"#000000\" stroke=\"#000000\" points=\"473.7684,-310.4313 464.013,-306.2981 469.0616,-315.6127 473.7684,-310.4313\"/>\n",
       "<text text-anchor=\"middle\" x=\"465.2116\" y=\"-327.5693\" font-family=\"Helvetica,sans-Serif\" font-size=\"14.00\" fill=\"#000000\">no</text>\n",
       "</g>\n",
       "<!-- 8 -->\n",
       "<g id=\"node9\" class=\"node\">\n",
       "<title>8</title>\n",
       "<path fill=\"#75bbed\" stroke=\"#000000\" d=\"M744,-306C744,-306 640,-306 640,-306 634,-306 628,-300 628,-294 628,-294 628,-235 628,-235 628,-229 634,-223 640,-223 640,-223 744,-223 744,-223 750,-223 756,-229 756,-235 756,-235 756,-294 756,-294 756,-300 750,-306 744,-306\"/>\n",
       "<text text-anchor=\"start\" x=\"658.5\" y=\"-290.8\" font-family=\"Helvetica,sans-Serif\" font-size=\"14.00\" fill=\"#000000\">db_Redis?</text>\n",
       "<text text-anchor=\"start\" x=\"643\" y=\"-275.8\" font-family=\"Helvetica,sans-Serif\" font-size=\"14.00\" fill=\"#000000\">entropy = 0.785</text>\n",
       "<text text-anchor=\"start\" x=\"642\" y=\"-260.8\" font-family=\"Helvetica,sans-Serif\" font-size=\"14.00\" fill=\"#000000\">samples = 1141</text>\n",
       "<text text-anchor=\"start\" x=\"636\" y=\"-245.8\" font-family=\"Helvetica,sans-Serif\" font-size=\"14.00\" fill=\"#000000\">value = [267, 874]</text>\n",
       "<text text-anchor=\"start\" x=\"657.5\" y=\"-230.8\" font-family=\"Helvetica,sans-Serif\" font-size=\"14.00\" fill=\"#000000\">class = low</text>\n",
       "</g>\n",
       "<!-- 0&#45;&gt;8 -->\n",
       "<g id=\"edge8\" class=\"edge\">\n",
       "<title>0&#45;&gt;8</title>\n",
       "<path fill=\"none\" stroke=\"#000000\" d=\"M599.0145,-341.8796C610.2701,-332.513 622.3088,-322.4948 633.8646,-312.8784\"/>\n",
       "<polygon fill=\"#000000\" stroke=\"#000000\" points=\"636.3242,-315.385 641.7721,-306.2981 631.8466,-310.0043 636.3242,-315.385\"/>\n",
       "<text text-anchor=\"middle\" x=\"639.4915\" y=\"-327.4938\" font-family=\"Helvetica,sans-Serif\" font-size=\"14.00\" fill=\"#000000\">yes</text>\n",
       "</g>\n",
       "<!-- 2 -->\n",
       "<g id=\"node3\" class=\"node\">\n",
       "<title>2</title>\n",
       "<path fill=\"#fef8f4\" stroke=\"#000000\" d=\"M274,-187C274,-187 154,-187 154,-187 148,-187 142,-181 142,-175 142,-175 142,-116 142,-116 142,-110 148,-104 154,-104 154,-104 274,-104 274,-104 280,-104 286,-110 286,-116 286,-116 286,-175 286,-175 286,-181 280,-187 274,-187\"/>\n",
       "<text text-anchor=\"start\" x=\"192.5\" y=\"-171.8\" font-family=\"Helvetica,sans-Serif\" font-size=\"14.00\" fill=\"#000000\">pl_go?</text>\n",
       "<text text-anchor=\"start\" x=\"165\" y=\"-156.8\" font-family=\"Helvetica,sans-Serif\" font-size=\"14.00\" fill=\"#000000\">entropy = 0.999</text>\n",
       "<text text-anchor=\"start\" x=\"164\" y=\"-141.8\" font-family=\"Helvetica,sans-Serif\" font-size=\"14.00\" fill=\"#000000\">samples = 2383</text>\n",
       "<text text-anchor=\"start\" x=\"150\" y=\"-126.8\" font-family=\"Helvetica,sans-Serif\" font-size=\"14.00\" fill=\"#000000\">value = [1224, 1159]</text>\n",
       "<text text-anchor=\"start\" x=\"176.5\" y=\"-111.8\" font-family=\"Helvetica,sans-Serif\" font-size=\"14.00\" fill=\"#000000\">class = high</text>\n",
       "</g>\n",
       "<!-- 1&#45;&gt;2 -->\n",
       "<g id=\"edge2\" class=\"edge\">\n",
       "<title>1&#45;&gt;2</title>\n",
       "<path fill=\"none\" stroke=\"#000000\" d=\"M346.6507,-222.8796C329.7239,-213.0056 311.5556,-202.4075 294.2617,-192.3193\"/>\n",
       "<polygon fill=\"#000000\" stroke=\"#000000\" points=\"295.7104,-189.1125 285.309,-187.0969 292.1833,-195.1589 295.7104,-189.1125\"/>\n",
       "</g>\n",
       "<!-- 5 -->\n",
       "<g id=\"node6\" class=\"node\">\n",
       "<title>5</title>\n",
       "<path fill=\"#e9965b\" stroke=\"#000000\" d=\"M466,-187C466,-187 370,-187 370,-187 364,-187 358,-181 358,-175 358,-175 358,-116 358,-116 358,-110 364,-104 370,-104 370,-104 466,-104 466,-104 472,-104 478,-110 478,-116 478,-116 478,-175 478,-175 478,-181 472,-187 466,-187\"/>\n",
       "<text text-anchor=\"start\" x=\"379.5\" y=\"-171.8\" font-family=\"Helvetica,sans-Serif\" font-size=\"14.00\" fill=\"#000000\">pl_c_sharp?</text>\n",
       "<text text-anchor=\"start\" x=\"369\" y=\"-156.8\" font-family=\"Helvetica,sans-Serif\" font-size=\"14.00\" fill=\"#000000\">entropy = 0.599</text>\n",
       "<text text-anchor=\"start\" x=\"372\" y=\"-141.8\" font-family=\"Helvetica,sans-Serif\" font-size=\"14.00\" fill=\"#000000\">samples = 364</text>\n",
       "<text text-anchor=\"start\" x=\"366\" y=\"-126.8\" font-family=\"Helvetica,sans-Serif\" font-size=\"14.00\" fill=\"#000000\">value = [311, 53]</text>\n",
       "<text text-anchor=\"start\" x=\"380.5\" y=\"-111.8\" font-family=\"Helvetica,sans-Serif\" font-size=\"14.00\" fill=\"#000000\">class = high</text>\n",
       "</g>\n",
       "<!-- 1&#45;&gt;5 -->\n",
       "<g id=\"edge5\" class=\"edge\">\n",
       "<title>1&#45;&gt;5</title>\n",
       "<path fill=\"none\" stroke=\"#000000\" d=\"M418,-222.8796C418,-214.6838 418,-205.9891 418,-197.5013\"/>\n",
       "<polygon fill=\"#000000\" stroke=\"#000000\" points=\"421.5001,-197.298 418,-187.2981 414.5001,-197.2981 421.5001,-197.298\"/>\n",
       "</g>\n",
       "<!-- 3 -->\n",
       "<g id=\"node4\" class=\"node\">\n",
       "<title>3</title>\n",
       "<path fill=\"#f3f9fd\" stroke=\"#000000\" d=\"M124,-68C124,-68 12,-68 12,-68 6,-68 0,-62 0,-56 0,-56 0,-12 0,-12 0,-6 6,0 12,0 12,0 124,0 124,0 130,0 136,-6 136,-12 136,-12 136,-56 136,-56 136,-62 130,-68 124,-68\"/>\n",
       "<text text-anchor=\"start\" x=\"19\" y=\"-52.8\" font-family=\"Helvetica,sans-Serif\" font-size=\"14.00\" fill=\"#000000\">entropy = 0.999</text>\n",
       "<text text-anchor=\"start\" x=\"18\" y=\"-37.8\" font-family=\"Helvetica,sans-Serif\" font-size=\"14.00\" fill=\"#000000\">samples = 2059</text>\n",
       "<text text-anchor=\"start\" x=\"8\" y=\"-22.8\" font-family=\"Helvetica,sans-Serif\" font-size=\"14.00\" fill=\"#000000\">value = [998, 1061]</text>\n",
       "<text text-anchor=\"start\" x=\"33.5\" y=\"-7.8\" font-family=\"Helvetica,sans-Serif\" font-size=\"14.00\" fill=\"#000000\">class = low</text>\n",
       "</g>\n",
       "<!-- 2&#45;&gt;3 -->\n",
       "<g id=\"edge3\" class=\"edge\">\n",
       "<title>2&#45;&gt;3</title>\n",
       "<path fill=\"none\" stroke=\"#000000\" d=\"M159.635,-103.9815C146.9989,-94.3313 133.5644,-84.0714 120.9885,-74.4673\"/>\n",
       "<polygon fill=\"#000000\" stroke=\"#000000\" points=\"122.9372,-71.5515 112.8654,-68.2637 118.6886,-77.1148 122.9372,-71.5515\"/>\n",
       "</g>\n",
       "<!-- 4 -->\n",
       "<g id=\"node5\" class=\"node\">\n",
       "<title>4</title>\n",
       "<path fill=\"#f0b88f\" stroke=\"#000000\" d=\"M262,-68C262,-68 166,-68 166,-68 160,-68 154,-62 154,-56 154,-56 154,-12 154,-12 154,-6 160,0 166,0 166,0 262,0 262,0 268,0 274,-6 274,-12 274,-12 274,-56 274,-56 274,-62 268,-68 262,-68\"/>\n",
       "<text text-anchor=\"start\" x=\"165\" y=\"-52.8\" font-family=\"Helvetica,sans-Serif\" font-size=\"14.00\" fill=\"#000000\">entropy = 0.884</text>\n",
       "<text text-anchor=\"start\" x=\"168\" y=\"-37.8\" font-family=\"Helvetica,sans-Serif\" font-size=\"14.00\" fill=\"#000000\">samples = 324</text>\n",
       "<text text-anchor=\"start\" x=\"162\" y=\"-22.8\" font-family=\"Helvetica,sans-Serif\" font-size=\"14.00\" fill=\"#000000\">value = [226, 98]</text>\n",
       "<text text-anchor=\"start\" x=\"176.5\" y=\"-7.8\" font-family=\"Helvetica,sans-Serif\" font-size=\"14.00\" fill=\"#000000\">class = high</text>\n",
       "</g>\n",
       "<!-- 2&#45;&gt;4 -->\n",
       "<g id=\"edge4\" class=\"edge\">\n",
       "<title>2&#45;&gt;4</title>\n",
       "<path fill=\"none\" stroke=\"#000000\" d=\"M214,-103.9815C214,-95.618 214,-86.7965 214,-78.3409\"/>\n",
       "<polygon fill=\"#000000\" stroke=\"#000000\" points=\"217.5001,-78.2636 214,-68.2637 210.5001,-78.2637 217.5001,-78.2636\"/>\n",
       "</g>\n",
       "<!-- 6 -->\n",
       "<g id=\"node7\" class=\"node\">\n",
       "<title>6</title>\n",
       "<path fill=\"#e99355\" stroke=\"#000000\" d=\"M400,-68C400,-68 304,-68 304,-68 298,-68 292,-62 292,-56 292,-56 292,-12 292,-12 292,-6 298,0 304,0 304,0 400,0 400,0 406,0 412,-6 412,-12 412,-12 412,-56 412,-56 412,-62 406,-68 400,-68\"/>\n",
       "<text text-anchor=\"start\" x=\"303\" y=\"-52.8\" font-family=\"Helvetica,sans-Serif\" font-size=\"14.00\" fill=\"#000000\">entropy = 0.536</text>\n",
       "<text text-anchor=\"start\" x=\"306\" y=\"-37.8\" font-family=\"Helvetica,sans-Serif\" font-size=\"14.00\" fill=\"#000000\">samples = 343</text>\n",
       "<text text-anchor=\"start\" x=\"300\" y=\"-22.8\" font-family=\"Helvetica,sans-Serif\" font-size=\"14.00\" fill=\"#000000\">value = [301, 42]</text>\n",
       "<text text-anchor=\"start\" x=\"314.5\" y=\"-7.8\" font-family=\"Helvetica,sans-Serif\" font-size=\"14.00\" fill=\"#000000\">class = high</text>\n",
       "</g>\n",
       "<!-- 5&#45;&gt;6 -->\n",
       "<g id=\"edge6\" class=\"edge\">\n",
       "<title>5&#45;&gt;6</title>\n",
       "<path fill=\"none\" stroke=\"#000000\" d=\"M393.424,-103.9815C388.2014,-95.1585 382.6771,-85.8258 377.4237,-76.9506\"/>\n",
       "<polygon fill=\"#000000\" stroke=\"#000000\" points=\"380.3874,-75.0863 372.2816,-68.2637 374.3636,-78.652 380.3874,-75.0863\"/>\n",
       "</g>\n",
       "<!-- 7 -->\n",
       "<g id=\"node8\" class=\"node\">\n",
       "<title>7</title>\n",
       "<path fill=\"#edf6fd\" stroke=\"#000000\" d=\"M532,-68C532,-68 442,-68 442,-68 436,-68 430,-62 430,-56 430,-56 430,-12 430,-12 430,-6 436,0 442,0 442,0 532,0 532,0 538,0 544,-6 544,-12 544,-12 544,-56 544,-56 544,-62 538,-68 532,-68\"/>\n",
       "<text text-anchor=\"start\" x=\"438\" y=\"-52.8\" font-family=\"Helvetica,sans-Serif\" font-size=\"14.00\" fill=\"#000000\">entropy = 0.998</text>\n",
       "<text text-anchor=\"start\" x=\"445\" y=\"-37.8\" font-family=\"Helvetica,sans-Serif\" font-size=\"14.00\" fill=\"#000000\">samples = 21</text>\n",
       "<text text-anchor=\"start\" x=\"438.5\" y=\"-22.8\" font-family=\"Helvetica,sans-Serif\" font-size=\"14.00\" fill=\"#000000\">value = [10, 11]</text>\n",
       "<text text-anchor=\"start\" x=\"452.5\" y=\"-7.8\" font-family=\"Helvetica,sans-Serif\" font-size=\"14.00\" fill=\"#000000\">class = low</text>\n",
       "</g>\n",
       "<!-- 5&#45;&gt;7 -->\n",
       "<g id=\"edge7\" class=\"edge\">\n",
       "<title>5&#45;&gt;7</title>\n",
       "<path fill=\"none\" stroke=\"#000000\" d=\"M443.6931,-103.9815C449.1531,-95.1585 454.9284,-85.8258 460.4207,-76.9506\"/>\n",
       "<polygon fill=\"#000000\" stroke=\"#000000\" points=\"463.5104,-78.609 465.7965,-68.2637 457.558,-74.9254 463.5104,-78.609\"/>\n",
       "</g>\n",
       "<!-- 9 -->\n",
       "<g id=\"node10\" class=\"node\">\n",
       "<title>9</title>\n",
       "<path fill=\"#6cb6ec\" stroke=\"#000000\" d=\"M744,-187C744,-187 640,-187 640,-187 634,-187 628,-181 628,-175 628,-175 628,-116 628,-116 628,-110 634,-104 640,-104 640,-104 744,-104 744,-104 750,-104 756,-110 756,-116 756,-116 756,-175 756,-175 756,-181 750,-187 744,-187\"/>\n",
       "<text text-anchor=\"start\" x=\"667\" y=\"-171.8\" font-family=\"Helvetica,sans-Serif\" font-size=\"14.00\" fill=\"#000000\">pl_cpp?</text>\n",
       "<text text-anchor=\"start\" x=\"643\" y=\"-156.8\" font-family=\"Helvetica,sans-Serif\" font-size=\"14.00\" fill=\"#000000\">entropy = 0.731</text>\n",
       "<text text-anchor=\"start\" x=\"646\" y=\"-141.8\" font-family=\"Helvetica,sans-Serif\" font-size=\"14.00\" fill=\"#000000\">samples = 996</text>\n",
       "<text text-anchor=\"start\" x=\"636\" y=\"-126.8\" font-family=\"Helvetica,sans-Serif\" font-size=\"14.00\" fill=\"#000000\">value = [204, 792]</text>\n",
       "<text text-anchor=\"start\" x=\"657.5\" y=\"-111.8\" font-family=\"Helvetica,sans-Serif\" font-size=\"14.00\" fill=\"#000000\">class = low</text>\n",
       "</g>\n",
       "<!-- 8&#45;&gt;9 -->\n",
       "<g id=\"edge9\" class=\"edge\">\n",
       "<title>8&#45;&gt;9</title>\n",
       "<path fill=\"none\" stroke=\"#000000\" d=\"M692,-222.8796C692,-214.6838 692,-205.9891 692,-197.5013\"/>\n",
       "<polygon fill=\"#000000\" stroke=\"#000000\" points=\"695.5001,-197.298 692,-187.2981 688.5001,-197.2981 695.5001,-197.298\"/>\n",
       "</g>\n",
       "<!-- 12 -->\n",
       "<g id=\"node13\" class=\"node\">\n",
       "<title>12</title>\n",
       "<path fill=\"#d1e8f9\" stroke=\"#000000\" d=\"M942,-187C942,-187 852,-187 852,-187 846,-187 840,-181 840,-175 840,-175 840,-116 840,-116 840,-110 846,-104 852,-104 852,-104 942,-104 942,-104 948,-104 954,-110 954,-116 954,-116 954,-175 954,-175 954,-181 948,-187 942,-187\"/>\n",
       "<text text-anchor=\"start\" x=\"874\" y=\"-171.8\" font-family=\"Helvetica,sans-Serif\" font-size=\"14.00\" fill=\"#000000\">pl_lua?</text>\n",
       "<text text-anchor=\"start\" x=\"848\" y=\"-156.8\" font-family=\"Helvetica,sans-Serif\" font-size=\"14.00\" fill=\"#000000\">entropy = 0.988</text>\n",
       "<text text-anchor=\"start\" x=\"851\" y=\"-141.8\" font-family=\"Helvetica,sans-Serif\" font-size=\"14.00\" fill=\"#000000\">samples = 145</text>\n",
       "<text text-anchor=\"start\" x=\"848.5\" y=\"-126.8\" font-family=\"Helvetica,sans-Serif\" font-size=\"14.00\" fill=\"#000000\">value = [63, 82]</text>\n",
       "<text text-anchor=\"start\" x=\"862.5\" y=\"-111.8\" font-family=\"Helvetica,sans-Serif\" font-size=\"14.00\" fill=\"#000000\">class = low</text>\n",
       "</g>\n",
       "<!-- 8&#45;&gt;12 -->\n",
       "<g id=\"edge12\" class=\"edge\">\n",
       "<title>8&#45;&gt;12</title>\n",
       "<path fill=\"none\" stroke=\"#000000\" d=\"M756.02,-227.3371C779.8757,-213.4893 806.9844,-197.753 831.0134,-183.8044\"/>\n",
       "<polygon fill=\"#000000\" stroke=\"#000000\" points=\"832.8237,-186.8006 839.7151,-178.7532 829.3095,-180.7466 832.8237,-186.8006\"/>\n",
       "</g>\n",
       "<!-- 10 -->\n",
       "<g id=\"node11\" class=\"node\">\n",
       "<title>10</title>\n",
       "<path fill=\"#63b2ea\" stroke=\"#000000\" d=\"M678,-68C678,-68 574,-68 574,-68 568,-68 562,-62 562,-56 562,-56 562,-12 562,-12 562,-6 568,0 574,0 574,0 678,0 678,0 684,0 690,-6 690,-12 690,-12 690,-56 690,-56 690,-62 684,-68 678,-68\"/>\n",
       "<text text-anchor=\"start\" x=\"577\" y=\"-52.8\" font-family=\"Helvetica,sans-Serif\" font-size=\"14.00\" fill=\"#000000\">entropy = 0.668</text>\n",
       "<text text-anchor=\"start\" x=\"580\" y=\"-37.8\" font-family=\"Helvetica,sans-Serif\" font-size=\"14.00\" fill=\"#000000\">samples = 877</text>\n",
       "<text text-anchor=\"start\" x=\"570\" y=\"-22.8\" font-family=\"Helvetica,sans-Serif\" font-size=\"14.00\" fill=\"#000000\">value = [153, 724]</text>\n",
       "<text text-anchor=\"start\" x=\"591.5\" y=\"-7.8\" font-family=\"Helvetica,sans-Serif\" font-size=\"14.00\" fill=\"#000000\">class = low</text>\n",
       "</g>\n",
       "<!-- 9&#45;&gt;10 -->\n",
       "<g id=\"edge10\" class=\"edge\">\n",
       "<title>9&#45;&gt;10</title>\n",
       "<path fill=\"none\" stroke=\"#000000\" d=\"M667.424,-103.9815C662.2014,-95.1585 656.6771,-85.8258 651.4237,-76.9506\"/>\n",
       "<polygon fill=\"#000000\" stroke=\"#000000\" points=\"654.3874,-75.0863 646.2816,-68.2637 648.3636,-78.652 654.3874,-75.0863\"/>\n",
       "</g>\n",
       "<!-- 11 -->\n",
       "<g id=\"node12\" class=\"node\">\n",
       "<title>11</title>\n",
       "<path fill=\"#cee6f8\" stroke=\"#000000\" d=\"M810,-68C810,-68 720,-68 720,-68 714,-68 708,-62 708,-56 708,-56 708,-12 708,-12 708,-6 714,0 720,0 720,0 810,0 810,0 816,0 822,-6 822,-12 822,-12 822,-56 822,-56 822,-62 816,-68 810,-68\"/>\n",
       "<text text-anchor=\"start\" x=\"716\" y=\"-52.8\" font-family=\"Helvetica,sans-Serif\" font-size=\"14.00\" fill=\"#000000\">entropy = 0.985</text>\n",
       "<text text-anchor=\"start\" x=\"719\" y=\"-37.8\" font-family=\"Helvetica,sans-Serif\" font-size=\"14.00\" fill=\"#000000\">samples = 119</text>\n",
       "<text text-anchor=\"start\" x=\"716.5\" y=\"-22.8\" font-family=\"Helvetica,sans-Serif\" font-size=\"14.00\" fill=\"#000000\">value = [51, 68]</text>\n",
       "<text text-anchor=\"start\" x=\"730.5\" y=\"-7.8\" font-family=\"Helvetica,sans-Serif\" font-size=\"14.00\" fill=\"#000000\">class = low</text>\n",
       "</g>\n",
       "<!-- 9&#45;&gt;11 -->\n",
       "<g id=\"edge11\" class=\"edge\">\n",
       "<title>9&#45;&gt;11</title>\n",
       "<path fill=\"none\" stroke=\"#000000\" d=\"M719.1825,-103.9815C725.0192,-95.0666 731.1966,-85.6313 737.0614,-76.6734\"/>\n",
       "<polygon fill=\"#000000\" stroke=\"#000000\" points=\"740.0179,-78.5472 742.5673,-68.2637 734.1614,-74.7129 740.0179,-78.5472\"/>\n",
       "</g>\n",
       "<!-- 13 -->\n",
       "<g id=\"node14\" class=\"node\">\n",
       "<title>13</title>\n",
       "<path fill=\"#c7e4f8\" stroke=\"#000000\" d=\"M942,-68C942,-68 852,-68 852,-68 846,-68 840,-62 840,-56 840,-56 840,-12 840,-12 840,-6 846,0 852,0 852,0 942,0 942,0 948,0 954,-6 954,-12 954,-12 954,-56 954,-56 954,-62 948,-68 942,-68\"/>\n",
       "<text text-anchor=\"start\" x=\"848\" y=\"-52.8\" font-family=\"Helvetica,sans-Serif\" font-size=\"14.00\" fill=\"#000000\">entropy = 0.981</text>\n",
       "<text text-anchor=\"start\" x=\"851\" y=\"-37.8\" font-family=\"Helvetica,sans-Serif\" font-size=\"14.00\" fill=\"#000000\">samples = 141</text>\n",
       "<text text-anchor=\"start\" x=\"848.5\" y=\"-22.8\" font-family=\"Helvetica,sans-Serif\" font-size=\"14.00\" fill=\"#000000\">value = [59, 82]</text>\n",
       "<text text-anchor=\"start\" x=\"862.5\" y=\"-7.8\" font-family=\"Helvetica,sans-Serif\" font-size=\"14.00\" fill=\"#000000\">class = low</text>\n",
       "</g>\n",
       "<!-- 12&#45;&gt;13 -->\n",
       "<g id=\"edge13\" class=\"edge\">\n",
       "<title>12&#45;&gt;13</title>\n",
       "<path fill=\"none\" stroke=\"#000000\" d=\"M897,-103.9815C897,-95.618 897,-86.7965 897,-78.3409\"/>\n",
       "<polygon fill=\"#000000\" stroke=\"#000000\" points=\"900.5001,-78.2636 897,-68.2637 893.5001,-78.2637 900.5001,-78.2636\"/>\n",
       "</g>\n",
       "<!-- 14 -->\n",
       "<g id=\"node15\" class=\"node\">\n",
       "<title>14</title>\n",
       "<path fill=\"#e58139\" stroke=\"#000000\" d=\"M1059.5,-68C1059.5,-68 984.5,-68 984.5,-68 978.5,-68 972.5,-62 972.5,-56 972.5,-56 972.5,-12 972.5,-12 972.5,-6 978.5,0 984.5,0 984.5,0 1059.5,0 1059.5,0 1065.5,0 1071.5,-6 1071.5,-12 1071.5,-12 1071.5,-56 1071.5,-56 1071.5,-62 1065.5,-68 1059.5,-68\"/>\n",
       "<text text-anchor=\"start\" x=\"980.5\" y=\"-52.8\" font-family=\"Helvetica,sans-Serif\" font-size=\"14.00\" fill=\"#000000\">entropy = 0.0</text>\n",
       "<text text-anchor=\"start\" x=\"984\" y=\"-37.8\" font-family=\"Helvetica,sans-Serif\" font-size=\"14.00\" fill=\"#000000\">samples = 4</text>\n",
       "<text text-anchor=\"start\" x=\"981.5\" y=\"-22.8\" font-family=\"Helvetica,sans-Serif\" font-size=\"14.00\" fill=\"#000000\">value = [4, 0]</text>\n",
       "<text text-anchor=\"start\" x=\"984.5\" y=\"-7.8\" font-family=\"Helvetica,sans-Serif\" font-size=\"14.00\" fill=\"#000000\">class = high</text>\n",
       "</g>\n",
       "<!-- 12&#45;&gt;14 -->\n",
       "<g id=\"edge14\" class=\"edge\">\n",
       "<title>12&#45;&gt;14</title>\n",
       "<path fill=\"none\" stroke=\"#000000\" d=\"M943.5454,-103.9815C954.1579,-94.5151 965.4282,-84.462 976.0171,-75.0168\"/>\n",
       "<polygon fill=\"#000000\" stroke=\"#000000\" points=\"978.4551,-77.5322 983.5878,-68.2637 973.7954,-72.3084 978.4551,-77.5322\"/>\n",
       "</g>\n",
       "</g>\n",
       "</svg>\n"
      ],
      "text/plain": [
       "<graphviz.files.Source at 0x7fb3e3aab410>"
      ]
     },
     "execution_count": 33,
     "metadata": {},
     "output_type": "execute_result"
    }
   ],
   "source": [
    "from sklearn import tree\n",
    "import graphviz \n",
    "dot_data = tree.export_graphviz(model, out_file=None, \n",
    "                      feature_names=X_train.columns,  \n",
    "                      class_names=['high','low'],  \n",
    "                      filled=True, rounded=True,  \n",
    "                      special_characters=True)  \n",
    "new_dot_data=dot_data.replace('True','no').replace('False','yes').replace(' &le; 0.5','?')\n",
    "graph = graphviz.Source(new_dot_data) \n",
    "graph.render('./data/dt_sklearn', format='png')\n",
    "graph"
   ]
  },
  {
   "cell_type": "code",
   "execution_count": null,
   "metadata": {},
   "outputs": [],
   "source": []
  }
 ],
 "metadata": {
  "kernelspec": {
   "display_name": "Python 3",
   "language": "python",
   "name": "python3"
  },
  "language_info": {
   "codemirror_mode": {
    "name": "ipython",
    "version": 3
   },
   "file_extension": ".py",
   "mimetype": "text/x-python",
   "name": "python",
   "nbconvert_exporter": "python",
   "pygments_lexer": "ipython3",
   "version": "3.7.5"
  }
 },
 "nbformat": 4,
 "nbformat_minor": 4
}
